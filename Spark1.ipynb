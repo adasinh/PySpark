{
 "cells": [
  {
   "cell_type": "code",
   "execution_count": 1,
   "metadata": {},
   "outputs": [
    {
     "data": {
      "text/plain": [
       "39"
      ]
     },
     "execution_count": 1,
     "metadata": {},
     "output_type": "execute_result"
    }
   ],
   "source": [
    "import findspark\n",
    "findspark.init()\n",
    "import pyspark as ps\n",
    "import warnings\n",
    "from pyspark.sql import SQLContext\n",
    "\n",
    "#sc = ps.SparkContext(appName='Lee')#No necesita crear contexto porque desde que arranca tiene uno.\n",
    "\n",
    "#Esto es para leer el archivo pero no lo manipula como DataFrame\n",
    "file = sc.textFile(\"C:/Spark/csv1.csv\")\n",
    "words = file.flatMap(lambda line: line.split(\",\"))\n",
    "words.count()"
   ]
  },
  {
   "cell_type": "code",
   "execution_count": 2,
   "metadata": {},
   "outputs": [
    {
     "name": "stdout",
     "output_type": "stream",
     "text": [
      "<class 'pyspark.sql.dataframe.DataFrame'>\n",
      "+---+----------------+------------+\n",
      "| id|          nombre|departamento|\n",
      "+---+----------------+------------+\n",
      "|  1|      Juan Perez|      ventas|\n",
      "|  2| Josefina Orozco|      ventas|\n",
      "|  3|   Jose Gonzalez|      ventas|\n",
      "|  4|Olivia Hernandez|      ventas|\n",
      "|  5|     Omar Garcia|  produccion|\n",
      "+---+----------------+------------+\n",
      "only showing top 5 rows\n",
      "\n",
      "None\n"
     ]
    }
   ],
   "source": [
    "sqlContext = SQLContext(sc)\n",
    "df = sqlContext.read.format('com.databricks.spark.csv').options(header='true', inferschema='true').load('C:/Spark/csv1.csv')\n",
    "print(type(df))\n",
    "print(df.show(5))"
   ]
  },
  {
   "cell_type": "code",
   "execution_count": 3,
   "metadata": {},
   "outputs": [
    {
     "name": "stdout",
     "output_type": "stream",
     "text": [
      "12\n",
      "root\n",
      " |-- id: integer (nullable = true)\n",
      " |-- nombre: string (nullable = true)\n",
      " |-- departamento: string (nullable = true)\n",
      "\n"
     ]
    }
   ],
   "source": [
    "print(df.count())\n",
    "df.printSchema()"
   ]
  },
  {
   "cell_type": "code",
   "execution_count": 6,
   "metadata": {},
   "outputs": [
    {
     "name": "stdout",
     "output_type": "stream",
     "text": [
      "3\n",
      "+------------+-----+\n",
      "|departamento|count|\n",
      "+------------+-----+\n",
      "|      ventas|    4|\n",
      "|   direccion|    4|\n",
      "|  produccion|    4|\n",
      "+------------+-----+\n",
      "\n"
     ]
    }
   ],
   "source": [
    "print(df.select('departamento').distinct().count())\n",
    "df.groupby('departamento').count().show()"
   ]
  },
  {
   "cell_type": "code",
   "execution_count": 8,
   "metadata": {},
   "outputs": [
    {
     "name": "stdout",
     "output_type": "stream",
     "text": [
      "Serie 1 de archivos: 200\n",
      "Serie 2 de archivos:1\n"
     ]
    }
   ],
   "source": [
    "gp=df.groupby('departamento').count()\n",
    "print(\"Serie 1 de archivos: \" + str(gp.rdd.getNumPartitions()))\n",
    "gp.write.csv('depto1')\n",
    "gp = gp.repartition(1)\n",
    "print(\"Serie 2 de archivos:\" + str(gp.rdd.getNumPartitions()))\n",
    "gp.write.csv('depto2')"
   ]
  },
  {
   "cell_type": "code",
   "execution_count": 11,
   "metadata": {},
   "outputs": [
    {
     "name": "stdout",
     "output_type": "stream",
     "text": [
      "+----------+---+\n",
      "|       _c0|_c1|\n",
      "+----------+---+\n",
      "|    ventas|  4|\n",
      "| direccion|  4|\n",
      "|produccion|  4|\n",
      "+----------+---+\n",
      "\n",
      "None\n"
     ]
    }
   ],
   "source": [
    "salida = sc.textFile('C:\\Spark\\depto2\\part-00000-846e7bd5-7b62-466b-b125-e6112704c747-c000.csv')\n",
    "sa = sqlContext.read.format('com.databricks.spark.csv').options(header='false', inferschema='true').load('C:\\Spark\\depto2\\part-00000-846e7bd5-7b62-466b-b125-e6112704c747-c000.csv')\n",
    "print(sa.show(5))\n",
    "#sc.stop() #Para terminar el programa."
   ]
  }
 ],
 "metadata": {
  "kernelspec": {
   "display_name": "Python 3",
   "language": "python",
   "name": "python3"
  },
  "language_info": {
   "codemirror_mode": {
    "name": "ipython",
    "version": 3
   },
   "file_extension": ".py",
   "mimetype": "text/x-python",
   "name": "python",
   "nbconvert_exporter": "python",
   "pygments_lexer": "ipython3",
   "version": "3.7.1"
  }
 },
 "nbformat": 4,
 "nbformat_minor": 2
}
